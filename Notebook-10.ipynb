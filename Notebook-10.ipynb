{
 "cells": [
  {
   "cell_type": "code",
   "execution_count": null,
   "metadata": {},
   "outputs": [],
   "source": [
    "# Example\n",
    "message = \"Python Programming\"  # string sequence\n",
    "items = list(message)  # list of strings\n",
    "items.append(\"!\")\n",
    "\n",
    "new_message = \" \".join(items)\n",
    "\n",
    "# print(items)\n",
    "print(new_message)\n"
   ]
  },
  {
   "cell_type": "code",
   "execution_count": null,
   "metadata": {},
   "outputs": [],
   "source": [
    "message = \"Python Programming\"  # string sequence\n",
    "new_message = message.upper()\n",
    "print(new_message * 3)\n"
   ]
  },
  {
   "cell_type": "code",
   "execution_count": null,
   "metadata": {},
   "outputs": [],
   "source": [
    "x = \"\"  # char\n",
    "print(type(x))\n",
    "chr()\n"
   ]
  },
  {
   "cell_type": "code",
   "execution_count": null,
   "metadata": {},
   "outputs": [],
   "source": [
    "msg = \"Python Programming\"\n",
    "items = []\n",
    "for ch in msg:\n",
    "    items.append((ch * 3).upper())  # [\"PPP\", \"yyy\"]\n",
    "\n",
    "new_msg = \"\".join(items)\n",
    "print(new_msg)\n"
   ]
  },
  {
   "cell_type": "code",
   "execution_count": null,
   "metadata": {},
   "outputs": [],
   "source": [
    "msg = \"Python Programming\"\n",
    "new_msg = \"\"\n",
    "for ch in msg:\n",
    "    new_msg = new_msg + (ch * 3).upper()\n",
    "\n",
    "print(new_msg)\n"
   ]
  },
  {
   "cell_type": "code",
   "execution_count": null,
   "metadata": {},
   "outputs": [],
   "source": [
    "values = [3, 6, 7]\n",
    "print(values * 3)\n"
   ]
  },
  {
   "cell_type": "code",
   "execution_count": null,
   "metadata": {},
   "outputs": [],
   "source": [
    "msg = \"Python Programming\"\n",
    "new_msg = \"\".join(list(msg))\n",
    "print(new_msg)\n"
   ]
  },
  {
   "cell_type": "code",
   "execution_count": null,
   "metadata": {},
   "outputs": [],
   "source": [
    "msg = \"Python Programming\"\n",
    "items = []\n",
    "for ch in msg:\n",
    "    if ch == \"P\" or ch == \"i\":\n",
    "        items.append((ch * 3).upper())  # [\"PPP\", \"PPP\", \"III\"]\n",
    "\n",
    "print(items)\n",
    "new_msg = \"\".join(items)\n",
    "print(new_msg)\n"
   ]
  },
  {
   "cell_type": "code",
   "execution_count": null,
   "metadata": {},
   "outputs": [],
   "source": [
    "msg = \"Python Programming\"\n",
    "items = []\n",
    "for ch in msg:\n",
    "    if ch == \"P\" or ch == \"i\":\n",
    "        items.append((ch * 3).upper())  # [\"PPP\", \"PPP\", \"III\"]\n",
    "    else:\n",
    "        items.append(ch)\n",
    "\n",
    "print(items)\n",
    "new_msg = \"\".join(items)\n",
    "print(new_msg)\n"
   ]
  },
  {
   "cell_type": "code",
   "execution_count": null,
   "metadata": {},
   "outputs": [],
   "source": [
    "students = [\n",
    "    {\"name\": \"Ahmad\", \"age\": 24},\n",
    "    {\"name\": \"Bilal\", \"age\": 27},\n",
    "    {\"name\": \"Khalil\", \"age\": 25},\n",
    "]\n",
    "\n",
    "# print(len(students))\n",
    "\n",
    "for student in students:\n",
    "    print(student.keys())\n"
   ]
  },
  {
   "cell_type": "code",
   "execution_count": null,
   "metadata": {},
   "outputs": [],
   "source": [
    "students = [\n",
    "    {\"name\": \"Ahmad\", \"age\": 24},\n",
    "    {\"name\": \"Bilal\", \"age\": 27},\n",
    "    {\"name\": \"Khalil\", \"age\": 25},\n",
    "]\n",
    "\n",
    "# print(len(students))\n",
    "\n",
    "# print(students[-1][\"name\"])\n",
    "\n",
    "for student in students:\n",
    "    print(student[\"name\"])\n"
   ]
  },
  {
   "cell_type": "code",
   "execution_count": null,
   "metadata": {},
   "outputs": [],
   "source": [
    "students = [\n",
    "    {\"name\": \"Ahmad\", \"age\": 24},\n",
    "    {\"name\": \"Bilal\", \"age\": 27},\n",
    "    {\"name\": \"Khalil\", \"age\": 25},\n",
    "]\n",
    "\n",
    "students.append({\"name\": \"Faizan\", \"age\": 26})\n",
    "\n",
    "print(students)\n"
   ]
  },
  {
   "cell_type": "code",
   "execution_count": null,
   "metadata": {},
   "outputs": [],
   "source": [
    "# User Defined Function (UDF)\n",
    "def add_values(x: int = 30, y: int = 0) -> int:\n",
    "    return x + y\n",
    "\n",
    "\n",
    "result_values: int = add_values(y=20, x=20)  # Function Calling or Function Execution\n",
    "print(result_values)\n"
   ]
  },
  {
   "cell_type": "code",
   "execution_count": null,
   "metadata": {},
   "outputs": [],
   "source": [
    "students = [\n",
    "    {\"name\": \"Ahmad\", \"age\": 24},\n",
    "    {\"name\": \"Bilal\", \"age\": 27},\n",
    "    {\"name\": \"Khalil\", \"age\": 25},\n",
    "]\n",
    "\n",
    "\n",
    "def sort_by_age(student):\n",
    "    return student[\"age\"]\n",
    "\n",
    "\n",
    "sorted_students = sorted(students, key=sort_by_age)\n",
    "\n",
    "print(sorted_students)\n",
    "print(students)\n"
   ]
  }
 ],
 "metadata": {
  "language_info": {
   "name": "python"
  }
 },
 "nbformat": 4,
 "nbformat_minor": 2
}
